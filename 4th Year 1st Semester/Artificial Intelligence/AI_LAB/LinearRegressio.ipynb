{
 "cells": [
  {
   "cell_type": "code",
   "execution_count": null,
   "metadata": {},
   "outputs": [],
   "source": [
    "import pandas as pd\n",
    "import numpy as np\n",
    "import random"
   ]
  },
  {
   "cell_type": "code",
   "execution_count": null,
   "metadata": {},
   "outputs": [],
   "source": [
    "\n",
    "data = {\n",
    "    \"Year of Experiences\": [3, 5, 2, 7, 4, 6, 1, 9, 8, 10, 2, 4, 6, 8, 5, 3, 7, 9, 4, 6],\n",
    "    \"Salary\": [45000, 60000, 38000, 75000, 52000, 68000, 30000, 90000, 82000, 100000, 36000, 50000, 72000, 85000, 59000, 42000, 77000, 92000, 54000, 69000]\n",
    "}\n",
    "\n",
    "dataset = pd.DataFrame(data)\n",
    "dataset\n"
   ]
  },
  {
   "cell_type": "code",
   "execution_count": null,
   "metadata": {},
   "outputs": [],
   "source": [
    "from sklearn.model_selection import train_test_split\n",
    "from sklearn.linear_model import LinearRegression\n",
    "from sklearn.metrics import mean_squared_error, r2_score"
   ]
  },
  {
   "cell_type": "code",
   "execution_count": null,
   "metadata": {},
   "outputs": [],
   "source": [
    "# Split dataset into features (X) and target variable (y)\n",
    "X = dataset[['Year of Experiences']]\n",
    "y = dataset['Salary']\n",
    "\n",
    "# Split the dataset into training and testing sets\n",
    "#X_train, X_test, y_train, y_test = train_test_split(X, y, test_size=0.2, random_state=42)\n",
    "\n",
    "# Create linear regression model\n",
    "model = LinearRegression()\n",
    "\n",
    "# Train the model using the training sets\n",
    "model.fit(X, y)"
   ]
  },
  {
   "cell_type": "code",
   "execution_count": null,
   "metadata": {},
   "outputs": [],
   "source": [
    "# Make predictions using the your predefined input data\n",
    "experience = np.array([[11]])\n",
    "salary = model.predict(experience)\n",
    "print(salary)\n"
   ]
  },
  {
   "cell_type": "code",
   "execution_count": null,
   "metadata": {},
   "outputs": [],
   "source": [
    "from sklearn.metrics import mean_absolute_error, mean_squared_error\n",
    "\n",
    "\n",
    "# Assign actual and predicted values\n",
    "y_test = [109000]  # Wrap the integer in a list\n",
    "y_pred = salary\n",
    "\n",
    "\n",
    "# Calculate MAE\n",
    "mae = mean_absolute_error(y_test, y_pred)\n",
    "print(\"Mean Absolute Error (MAE):\", mae)\n",
    "\n",
    "# Calculate MSE\n",
    "mse = mean_squared_error(y_test, y_pred)\n",
    "print(\"Mean Squared Error (MSE):\", mse)\n",
    "\n",
    "# Calculate RMSE\n",
    "rmse = np.sqrt(mse)\n",
    "print(\"Root Mean Squared Error (RMSE):\", rmse)"
   ]
  },
  {
   "cell_type": "markdown",
   "metadata": {},
   "source": [
    "Exercise: train the regression model using train test method and them find the errors using the different method provided above."
   ]
  },
  {
   "cell_type": "code",
   "execution_count": null,
   "metadata": {},
   "outputs": [],
   "source": [
    "# do coding here\n",
    "data = {\n",
    "    \"Year of Experiences\": [3, 5, 2, 7, 4, 6, 1, 9, 8, 10, 2, 4, 6, 8, 5, 3, 7, 9, 4, 6],\n",
    "    \"Salary\": [45000, 60000, 38000, 75000, 52000, 68000, 30000, 90000, 82000, 100000, 36000, 50000, 72000, 85000, 59000, 42000, 77000, 92000, 54000, 69000]\n",
    "}\n",
    "\n",
    "dataset = pd.DataFrame(data)\n",
    "\n",
    "X = dataset[['Year of Experiences']]\n",
    "y = dataset['Salary']\n",
    "\n",
    "X_train, X_test, y_train, y_test = train_test_split(X, y, test_size=0.2, random_state=42)\n",
    "\n",
    "\n",
    "# Create linear regression model\n",
    "model_linear = LinearRegression()\n",
    "\n",
    "# Train the model using the training sets\n",
    "model_linear.fit(X_train, y_train)\n",
    "\n",
    "# testing the model\n",
    "y_predict=model_linear.predict(X_test)\n",
    "\n",
    "# Calculate MAE\n",
    "mae_linear = mean_absolute_error(y_test, y_predict)\n",
    "print(\"Mean Absolute Error (MAE):\", mae_linear)\n"
   ]
  },
  {
   "cell_type": "markdown",
   "metadata": {},
   "source": [
    "Multiple Linear Regression"
   ]
  },
  {
   "cell_type": "code",
   "execution_count": null,
   "metadata": {},
   "outputs": [],
   "source": [
    "import pandas as pd\n",
    "import numpy as np\n",
    "\n",
    "# Generate synthetic data\n",
    "np.random.seed(0)\n",
    "num_samples = 100\n",
    "years_of_experience = np.random.randint(1, 20, size=num_samples)\n",
    "age = np.random.randint(22, 65, size=num_samples)\n",
    "education_level = np.random.randint(1, 5, size=num_samples)  # Assume 1=High School, 2=Bachelor's, 3=Master's, 4=PhD\n",
    "salary = 30000 + (years_of_experience * 2000) + (age * 100) + (education_level * 5000) + np.random.normal(scale=10000, size=num_samples)\n",
    "\n",
    "# Create DataFrame\n",
    "data = {\n",
    "    \"Years of Experience\": years_of_experience,\n",
    "    \"Age\": age,\n",
    "    \"Education Level\": education_level,\n",
    "    \"Salary\": salary\n",
    "}\n",
    "dataset = pd.DataFrame(data)\n",
    "\n",
    "print(dataset.head())\n"
   ]
  },
  {
   "cell_type": "code",
   "execution_count": null,
   "metadata": {},
   "outputs": [],
   "source": [
    "import pandas as pd\n",
    "from sklearn.model_selection import train_test_split\n",
    "from sklearn.linear_model import LinearRegression\n",
    "from sklearn.metrics import mean_squared_error\n",
    "\n",
    "# Assuming you have loaded your dataset into a pandas DataFrame named 'dataset'\n",
    "# Splitting the dataset into features (X) and target variable (y)\n",
    "X = dataset[['Years of Experience', 'Age', 'Education Level']]  # Independent variables\n",
    "y = dataset['Salary']  # Dependent variable\n",
    "\n",
    "# Splitting the dataset into training and testing sets\n",
    "X_train, X_test, y_train, y_test = train_test_split(X, y, test_size=0.2, random_state=42)\n",
    "\n",
    "# Initialize the MLR model\n",
    "model = LinearRegression()\n",
    "\n",
    "# Train the model\n",
    "model.fit(X_train, y_train)\n",
    "\n",
    "# Making predictions\n",
    "y_pred = model.predict(X_test)\n",
    "\n",
    "# Evaluating the model\n",
    "mse = mean_squared_error(y_test, y_pred)\n",
    "print(\"Mean Squared Error:\", mse)\n"
   ]
  }
 ],
 "metadata": {
  "kernelspec": {
   "display_name": "Python 3",
   "language": "python",
   "name": "python3"
  },
  "language_info": {
   "codemirror_mode": {
    "name": "ipython",
    "version": 3
   },
   "file_extension": ".py",
   "mimetype": "text/x-python",
   "name": "python",
   "nbconvert_exporter": "python",
   "pygments_lexer": "ipython3",
   "version": "3.12.2"
  }
 },
 "nbformat": 4,
 "nbformat_minor": 2
}
