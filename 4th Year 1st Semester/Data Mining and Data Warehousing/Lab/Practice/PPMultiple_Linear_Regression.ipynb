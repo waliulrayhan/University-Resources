{
 "cells": [
  {
   "cell_type": "code",
   "execution_count": 3,
   "id": "6dee4eaf-2e38-4895-aa6d-c0c44560e5d1",
   "metadata": {},
   "outputs": [
    {
     "name": "stdout",
     "output_type": "stream",
     "text": [
      "   Petrol_tax  Average_income  Paved_Highways  Population_Driver_licence(%)  \\\n",
      "0         9.0            3571            1976                         0.525   \n",
      "1         9.0            4092            1250                         0.572   \n",
      "2         9.0            3865            1586                         0.580   \n",
      "3         7.5            4870            2351                         0.529   \n",
      "4         8.0            4399             431                         0.544   \n",
      "\n",
      "   Petrol_Consumption  \n",
      "0                 541  \n",
      "1                 524  \n",
      "2                 561  \n",
      "3                 414  \n",
      "4                 410  \n"
     ]
    }
   ],
   "source": [
    "# 5.1 Loading the Dataset\n",
    "import pandas as pd\n",
    "\n",
    "# Load the petrol consumption dataset\n",
    "data = pd.read_csv('petrol_consumption.csv')\n",
    "\n",
    "# Display the first few rows\n",
    "print(data.head())\n"
   ]
  },
  {
   "cell_type": "code",
   "execution_count": 8,
   "id": "2c53d5ca-f892-4941-a829-66d7e7fe192a",
   "metadata": {},
   "outputs": [
    {
     "name": "stdout",
     "output_type": "stream",
     "text": [
      "       Petrol_tax  Average_income  Paved_Highways  \\\n",
      "count   48.000000       48.000000       48.000000   \n",
      "mean     7.668333     4241.833333     5565.416667   \n",
      "std      0.950770      573.623768     3491.507166   \n",
      "min      5.000000     3063.000000      431.000000   \n",
      "25%      7.000000     3739.000000     3110.250000   \n",
      "50%      7.500000     4298.000000     4735.500000   \n",
      "75%      8.125000     4578.750000     7156.000000   \n",
      "max     10.000000     5342.000000    17782.000000   \n",
      "\n",
      "       Population_Driver_licence(%)  Petrol_Consumption  \n",
      "count                     48.000000           48.000000  \n",
      "mean                       0.570333          576.770833  \n",
      "std                        0.055470          111.885816  \n",
      "min                        0.451000          344.000000  \n",
      "25%                        0.529750          509.500000  \n",
      "50%                        0.564500          568.500000  \n",
      "75%                        0.595250          632.750000  \n",
      "max                        0.724000          968.000000  \n",
      "===========================================================\n",
      "Petrol_tax                      0\n",
      "Average_income                  0\n",
      "Paved_Highways                  0\n",
      "Population_Driver_licence(%)    0\n",
      "Petrol_Consumption              0\n",
      "dtype: int64\n"
     ]
    }
   ],
   "source": [
    "# 5.2 Exploring the Data\n",
    "# Check basic statistics\n",
    "print(data.describe())\n",
    "\n",
    "print(\"===========================================================\")\n",
    "\n",
    "# Check for any missing values\n",
    "print(data.isnull().sum())\n"
   ]
  },
  {
   "cell_type": "code",
   "execution_count": 5,
   "id": "2fc517fc-2452-423d-a213-560b98a41d6e",
   "metadata": {},
   "outputs": [
    {
     "name": "stdout",
     "output_type": "stream",
     "text": [
      "Training data shape: (38, 4)\n",
      "Testing data shape: (10, 4)\n"
     ]
    }
   ],
   "source": [
    "# 5.3 Splitting the Data\n",
    "from sklearn.model_selection import train_test_split\n",
    "\n",
    "# Independent variables (features)\n",
    "X = data[['Petrol_tax', 'Average_income', 'Paved_Highways', 'Population_Driver_licence(%)']]\n",
    "\n",
    "# Dependent variable (target)\n",
    "y = data['Petrol_Consumption']\n",
    "\n",
    "# Split the data into training and testing sets\n",
    "X_train, X_test, y_train, y_test = train_test_split(X, y, test_size=0.2, random_state=42)\n",
    "\n",
    "# Check the shapes of the training and testing data\n",
    "print(\"Training data shape:\", X_train.shape)\n",
    "print(\"Testing data shape:\", X_test.shape)\n"
   ]
  },
  {
   "cell_type": "code",
   "execution_count": 9,
   "id": "4c7957fc-4481-4723-a57b-76fa062694aa",
   "metadata": {},
   "outputs": [
    {
     "name": "stdout",
     "output_type": "stream",
     "text": [
      "Coefficients: [-3.69937459e+01 -5.65355145e-02 -4.38217137e-03  1.34686930e+03]\n",
      "Intercept: 361.45087906653225\n"
     ]
    }
   ],
   "source": [
    "# 5.4 Training the Multiple Linear Regression Model\n",
    "from sklearn.linear_model import LinearRegression\n",
    "\n",
    "# Initialize the model\n",
    "model = LinearRegression()\n",
    "\n",
    "# Train the model using the training data\n",
    "model.fit(X_train, y_train)\n",
    "\n",
    "# Output the coefficients (slope) and intercept\n",
    "print(\"Coefficients:\", model.coef_)\n",
    "print(\"Intercept:\", model.intercept_)\n"
   ]
  },
  {
   "cell_type": "code",
   "execution_count": 10,
   "id": "7c353d3a-825f-49b8-a2df-1de6594d009f",
   "metadata": {},
   "outputs": [
    {
     "name": "stdout",
     "output_type": "stream",
     "text": [
      "    Actual   Predicted\n",
      "27     631  606.692665\n",
      "40     587  673.779442\n",
      "26     577  584.991490\n",
      "43     591  563.536910\n",
      "24     460  519.058672\n",
      "37     704  643.461003\n",
      "12     525  572.897614\n",
      "19     640  687.077036\n",
      "4      410  547.609366\n",
      "25     566  530.037630\n"
     ]
    }
   ],
   "source": [
    "# 5.5 Making Predictions\n",
    "# Make predictions using the test data\n",
    "y_pred = model.predict(X_test)\n",
    "\n",
    "# Compare the predicted and actual petrol consumption\n",
    "comparison = pd.DataFrame({'Actual': y_test, 'Predicted': y_pred})\n",
    "print(comparison)\n"
   ]
  },
  {
   "cell_type": "code",
   "execution_count": 11,
   "id": "a5f59e57-c7e2-4202-97da-b60cc2964f95",
   "metadata": {},
   "outputs": [
    {
     "name": "stdout",
     "output_type": "stream",
     "text": [
      "Mean Absolute Error: 53.468541282916625\n",
      "R-squared: 0.3913664001428886\n"
     ]
    }
   ],
   "source": [
    "# 5.6 Evaluating the Model\n",
    "from sklearn.metrics import mean_absolute_error, r2_score\n",
    "\n",
    "# Calculate Mean Absolute Error\n",
    "mae = mean_absolute_error(y_test, y_pred)\n",
    "\n",
    "# Calculate R-squared\n",
    "r2 = r2_score(y_test, y_pred)\n",
    "\n",
    "print(f\"Mean Absolute Error: {mae}\")\n",
    "print(f\"R-squared: {r2}\")\n"
   ]
  },
  {
   "cell_type": "code",
   "execution_count": null,
   "id": "4c4f8dfb-0eb1-4fb0-a20f-e29c3b14fe23",
   "metadata": {},
   "outputs": [],
   "source": []
  }
 ],
 "metadata": {
  "kernelspec": {
   "display_name": "Python 3 (ipykernel)",
   "language": "python",
   "name": "python3"
  },
  "language_info": {
   "codemirror_mode": {
    "name": "ipython",
    "version": 3
   },
   "file_extension": ".py",
   "mimetype": "text/x-python",
   "name": "python",
   "nbconvert_exporter": "python",
   "pygments_lexer": "ipython3",
   "version": "3.12.7"
  }
 },
 "nbformat": 4,
 "nbformat_minor": 5
}
