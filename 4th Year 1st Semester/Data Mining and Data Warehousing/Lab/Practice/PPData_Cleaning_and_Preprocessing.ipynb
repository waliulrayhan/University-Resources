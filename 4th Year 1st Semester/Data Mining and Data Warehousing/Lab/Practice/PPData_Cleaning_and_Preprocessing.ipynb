{
 "cells": [
  {
   "cell_type": "code",
   "execution_count": 3,
   "id": "41a49a55-3470-41a3-a700-e2737183b684",
   "metadata": {},
   "outputs": [
    {
     "name": "stdout",
     "output_type": "stream",
     "text": [
      "   Unnamed: 0  Pregnancies  Glucose  BloodPressure  SkinThickness  Insulin  \\\n",
      "0           0            6    148.0           72.0           35.0      NaN   \n",
      "1           1            1     85.0           66.0           29.0      NaN   \n",
      "2           2            8    183.0           64.0            NaN      NaN   \n",
      "3           3            1     89.0           66.0           23.0     94.0   \n",
      "4           4            0    137.0           40.0           35.0    168.0   \n",
      "\n",
      "    BMI  DiabetesPedigreeFunction  Age  Outcome  \n",
      "0  33.6                     0.627   50        1  \n",
      "1  26.6                     0.351   31        0  \n",
      "2  23.3                     0.672   32        1  \n",
      "3  28.1                     0.167   21        0  \n",
      "4  43.1                     2.288   33        1  \n",
      "=============================================================================\n",
      "Unnamed: 0                    0\n",
      "Pregnancies                   0\n",
      "Glucose                       5\n",
      "BloodPressure                35\n",
      "SkinThickness               227\n",
      "Insulin                     374\n",
      "BMI                          11\n",
      "DiabetesPedigreeFunction      0\n",
      "Age                           0\n",
      "Outcome                       0\n",
      "dtype: int64\n"
     ]
    }
   ],
   "source": [
    "# 3.1 Loading the Dataset with Missing Values\n",
    "import pandas as pd\n",
    "\n",
    "# Load the dataset with missing values\n",
    "data = pd.read_csv('datawithmissing.csv')\n",
    "\n",
    "# Display the first few rows of the dataset\n",
    "print(data.head())\n",
    "\n",
    "print(\"=============================================================================\")\n",
    "\n",
    "# Check for missing values in each column\n",
    "print(data.isnull().sum())\n"
   ]
  },
  {
   "cell_type": "code",
   "execution_count": 5,
   "id": "e3fc935e-753c-4f81-9d30-84e8ad73a433",
   "metadata": {},
   "outputs": [
    {
     "name": "stdout",
     "output_type": "stream",
     "text": [
      "Unnamed: 0                  0\n",
      "Pregnancies                 0\n",
      "Glucose                     0\n",
      "BloodPressure               0\n",
      "SkinThickness               0\n",
      "Insulin                     0\n",
      "BMI                         0\n",
      "DiabetesPedigreeFunction    0\n",
      "Age                         0\n",
      "Outcome                     0\n",
      "dtype: int64\n"
     ]
    }
   ],
   "source": [
    "# 3.2 Handling Missing Data\n",
    "# Drop rows with any missing values\n",
    "#data_cleaned = data.dropna()\n",
    "\n",
    "# Check if missing values are removed\n",
    "#print(data_cleaned.isnull().sum())\n",
    "\n",
    "# Fill missing values with the mean of each column\n",
    "data_filled = data.fillna(data.mean())\n",
    "\n",
    "# Check if missing values are filled\n",
    "print(data_filled.isnull().sum())\n"
   ]
  },
  {
   "cell_type": "code",
   "execution_count": 5,
   "id": "bc5b91f2-a4f6-4c34-abd4-db3b0868ebc0",
   "metadata": {},
   "outputs": [
    {
     "name": "stdout",
     "output_type": "stream",
     "text": [
      "Unnamed: 0                    0\n",
      "Pregnancies                   0\n",
      "Glucose                       0\n",
      "BloodPressure                35\n",
      "SkinThickness               227\n",
      "Insulin                     374\n",
      "BMI                          11\n",
      "DiabetesPedigreeFunction      0\n",
      "Age                           0\n",
      "Outcome                       0\n",
      "dtype: int64\n"
     ]
    }
   ],
   "source": [
    "# 3.3 Handling Missing Values in Specific Columns\n",
    "# Fill missing values in a specific column (e.g., 'Glucose') with the mean\n",
    "data['Glucose'] = data['Glucose'].fillna(data['Glucose'].mean())\n",
    "\n",
    "# Drop rows where 'Outcome' column is missing\n",
    "data = data.dropna(subset=['Outcome'])\n",
    "\n",
    "# Check the cleaned dataset\n",
    "print(data.isnull().sum())\n"
   ]
  },
  {
   "cell_type": "code",
   "execution_count": 6,
   "id": "46e70782-047e-4619-84e9-7b8a9078575d",
   "metadata": {},
   "outputs": [
    {
     "name": "stdout",
     "output_type": "stream",
     "text": [
      "   Unnamed: 0  Pregnancies   Glucose  BloodPressure  SkinThickness   Insulin  \\\n",
      "0           0            6  0.865108      -0.032746       0.558557       NaN   \n",
      "1           1            1 -1.206162      -0.517645      -0.014657       NaN   \n",
      "2           2            8  2.015813      -0.679278            NaN       NaN   \n",
      "3           3            1 -1.074652      -0.517645      -0.587871 -0.518847   \n",
      "4           4            0  0.503458      -2.618874       0.558557  0.104968   \n",
      "\n",
      "        BMI  DiabetesPedigreeFunction  Age  Outcome  \n",
      "0  0.165097                     0.627   50        1  \n",
      "1 -0.846404                     0.351   31        0  \n",
      "2 -1.323254                     0.672   32        1  \n",
      "3 -0.629654                     0.167   21        0  \n",
      "4  1.537847                     2.288   33        1  \n"
     ]
    }
   ],
   "source": [
    "# 3.4 Feature Scaling (Optional)\n",
    "# If your data contains values in different ranges (e.g., age vs glucose levels), scaling them can help improve the performance of machine learning models.\n",
    "\n",
    "from sklearn.preprocessing import StandardScaler\n",
    "\n",
    "# Initialize the scaler\n",
    "scaler = StandardScaler()\n",
    "\n",
    "# Apply scaling to the relevant numeric columns\n",
    "numeric_columns = ['Glucose', 'BloodPressure', 'SkinThickness', 'Insulin', 'BMI']\n",
    "data[numeric_columns] = scaler.fit_transform(data[numeric_columns])\n",
    "\n",
    "# Display the scaled data\n",
    "print(data.head())\n"
   ]
  },
  {
   "cell_type": "code",
   "execution_count": null,
   "id": "2543cdf5-3e32-4f7b-8733-8d4f5115d2e2",
   "metadata": {},
   "outputs": [],
   "source": []
  }
 ],
 "metadata": {
  "kernelspec": {
   "display_name": "Python 3 (ipykernel)",
   "language": "python",
   "name": "python3"
  },
  "language_info": {
   "codemirror_mode": {
    "name": "ipython",
    "version": 3
   },
   "file_extension": ".py",
   "mimetype": "text/x-python",
   "name": "python",
   "nbconvert_exporter": "python",
   "pygments_lexer": "ipython3",
   "version": "3.12.7"
  }
 },
 "nbformat": 4,
 "nbformat_minor": 5
}
