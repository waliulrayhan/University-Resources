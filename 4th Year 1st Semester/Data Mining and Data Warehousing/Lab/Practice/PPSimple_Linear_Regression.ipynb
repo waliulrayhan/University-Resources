{
 "cells": [
  {
   "cell_type": "code",
   "execution_count": 1,
   "id": "8b9e8365-8128-40c1-bd50-7f5b3f1c862b",
   "metadata": {},
   "outputs": [
    {
     "name": "stdout",
     "output_type": "stream",
     "text": [
      "   Hours  Scores\n",
      "0    2.5      21\n",
      "1    5.1      47\n",
      "2    3.2      27\n",
      "3    8.5      75\n",
      "4    3.5      30\n"
     ]
    }
   ],
   "source": [
    "# 4.1 Loading the Dataset\n",
    "import pandas as pd\n",
    "\n",
    "# Load the dataset\n",
    "data = pd.read_csv('student_scores.csv')\n",
    "\n",
    "# Display the first few rows\n",
    "print(data.head())\n"
   ]
  },
  {
   "cell_type": "code",
   "execution_count": 4,
   "id": "434c7c52-0a7e-4f60-93dd-cfc423f8240e",
   "metadata": {},
   "outputs": [
    {
     "data": {
      "image/png": "[encoded data removed]",
      "text/plain": [
       "<Figure size 640x480 with 1 Axes>"
      ]
     },
     "metadata": {},
     "output_type": "display_data"
    }
   ],
   "source": [
    "# 4.2 Exploratory Data Analysis\n",
    "import matplotlib.pyplot as plt\n",
    "\n",
    "# Plot a scatter plot to see the relationship between Hours and Scores\n",
    "plt.scatter(data['Hours'], data['Scores'], color='blue')\n",
    "plt.title('Hours vs Scores')\n",
    "plt.xlabel('Hours Studied')\n",
    "plt.ylabel('Score')\n",
    "plt.show()\n"
   ]
  },
  {
   "cell_type": "code",
   "execution_count": 5,
   "id": "1611647c-8924-41e3-add0-85b409a9176f",
   "metadata": {},
   "outputs": [
    {
     "name": "stdout",
     "output_type": "stream",
     "text": [
      "Training data shape: (20, 1)\n",
      "Testing data shape: (5, 1)\n"
     ]
    }
   ],
   "source": [
    "# 4.3 Splitting the Data\n",
    "from sklearn.model_selection import train_test_split\n",
    "\n",
    "# Split the data into training and testing sets\n",
    "X = data[['Hours']]  # Independent variable\n",
    "y = data['Scores']  # Dependent variable (target)\n",
    "\n",
    "X_train, X_test, y_train, y_test = train_test_split(X, y, test_size=0.2, random_state=42)\n",
    "\n",
    "# Check the shapes of the training and testing data\n",
    "print(\"Training data shape:\", X_train.shape)\n",
    "print(\"Testing data shape:\", X_test.shape)\n"
   ]
  },
  {
   "cell_type": "code",
   "execution_count": 6,
   "id": "7f89a9be-c439-453a-84d2-d3aa099ed3a8",
   "metadata": {},
   "outputs": [
    {
     "name": "stdout",
     "output_type": "stream",
     "text": [
      "Coefficient (Slope): [9.68207815]\n",
      "Intercept: 2.826892353899737\n"
     ]
    }
   ],
   "source": [
    "# 4.4 Training the Simple Linear Regression Model\n",
    "from sklearn.linear_model import LinearRegression\n",
    "\n",
    "# Initialize the model\n",
    "model = LinearRegression()\n",
    "\n",
    "# Train the model using the training data\n",
    "model.fit(X_train, y_train)\n",
    "\n",
    "# Output the coefficients (slope) and intercept\n",
    "print(\"Coefficient (Slope):\", model.coef_)\n",
    "print(\"Intercept:\", model.intercept_)\n"
   ]
  },
  {
   "cell_type": "code",
   "execution_count": 7,
   "id": "7cdb71f4-7c4a-484e-ace0-a5b2faabd3a6",
   "metadata": {},
   "outputs": [
    {
     "name": "stdout",
     "output_type": "stream",
     "text": [
      "    Actual  Predicted\n",
      "8       81  83.188141\n",
      "16      30  27.032088\n",
      "0       21  27.032088\n",
      "23      76  69.633232\n",
      "11      62  59.951153\n"
     ]
    }
   ],
   "source": [
    "# 4.5 Making Predictions\n",
    "# Make predictions using the test data\n",
    "y_pred = model.predict(X_test)\n",
    "\n",
    "# Compare the predicted and actual scores\n",
    "comparison = pd.DataFrame({'Actual': y_test, 'Predicted': y_pred})\n",
    "print(comparison)"
   ]
  },
  {
   "cell_type": "code",
   "execution_count": 8,
   "id": "15e5c6ec-9fc4-45e6-9e23-e8e0ae75a5cc",
   "metadata": {},
   "outputs": [
    {
     "name": "stdout",
     "output_type": "stream",
     "text": [
      "Mean Absolute Error: 3.9207511902099244\n",
      "R-squared: 0.9678055545167994\n"
     ]
    }
   ],
   "source": [
    "# 4.6 Evaluating the Model\n",
    "from sklearn.metrics import mean_absolute_error, r2_score\n",
    "\n",
    "# Calculate Mean Absolute Error\n",
    "mae = mean_absolute_error(y_test, y_pred)\n",
    "\n",
    "# Calculate R-squared\n",
    "r2 = r2_score(y_test, y_pred)\n",
    "\n",
    "print(f\"Mean Absolute Error: {mae}\")\n",
    "print(f\"R-squared: {r2}\")\n"
   ]
  }
 ],
 "metadata": {
  "kernelspec": {
   "display_name": "Python 3 (ipykernel)",
   "language": "python",
   "name": "python3"
  },
  "language_info": {
   "codemirror_mode": {
    "name": "ipython",
    "version": 3
   },
   "file_extension": ".py",
   "mimetype": "text/x-python",
   "name": "python",
   "nbconvert_exporter": "python",
   "pygments_lexer": "ipython3",
   "version": "3.12.7"
  }
 },
 "nbformat": 4,
 "nbformat_minor": 5
}
