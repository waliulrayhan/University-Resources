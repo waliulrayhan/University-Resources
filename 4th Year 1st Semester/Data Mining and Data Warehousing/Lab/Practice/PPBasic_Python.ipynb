{
 "cells": [
  {
   "cell_type": "code",
   "execution_count": 1,
   "id": "b0dff114-48f8-4d1f-8698-9928c3b6ccd6",
   "metadata": {},
   "outputs": [
    {
     "name": "stdout",
     "output_type": "stream",
     "text": [
      "Hello\n"
     ]
    }
   ],
   "source": [
    "print(\"Hello\")"
   ]
  },
  {
   "cell_type": "code",
   "execution_count": 2,
   "id": "e2cd91fe-f58c-4f6d-87f8-af4858c679cd",
   "metadata": {},
   "outputs": [
    {
     "name": "stdout",
     "output_type": "stream",
     "text": [
      "Updated list: [1, 2, 4, 5, 6]\n"
     ]
    }
   ],
   "source": [
    "# 1.1 Creating Lists and Basic Operations\n",
    "# Create a list\n",
    "my_list = [1, 2, 3, 4, 5]\n",
    "\n",
    "# Access elements (indexing starts from 0)\n",
    "first_element = my_list[0]  # Access the first element\n",
    "last_element = my_list[-1]  # Access the last element\n",
    "\n",
    "# Add elements to the list\n",
    "my_list.append(6)\n",
    "\n",
    "# Remove elements from the list\n",
    "my_list.remove(3)\n",
    "\n",
    "# Check the updated list\n",
    "print(\"Updated list:\", my_list)\n"
   ]
  },
  {
   "cell_type": "code",
   "execution_count": 4,
   "id": "4313a26e-6306-424c-aa40-6b1cd4e8f17f",
   "metadata": {},
   "outputs": [
    {
     "name": "stdout",
     "output_type": "stream",
     "text": [
      "1\n",
      "2\n",
      "4\n",
      "5\n",
      "6\n",
      "Count is: 1\n",
      "Count is: 2\n",
      "Count is: 3\n",
      "Count is: 4\n"
     ]
    }
   ],
   "source": [
    "# 1.2 Loops in Python\n",
    "# For loop to iterate through a list\n",
    "for element in my_list:\n",
    "    print(element)\n",
    "\n",
    "# While loop example\n",
    "count = 1\n",
    "while count < 5:\n",
    "    print(\"Count is:\", count)\n",
    "    count += 1\n"
   ]
  },
  {
   "cell_type": "code",
   "execution_count": 5,
   "id": "aa64b0e6-bef4-4166-993c-1ff3b9683a3f",
   "metadata": {},
   "outputs": [
    {
     "name": "stdout",
     "output_type": "stream",
     "text": [
      "The sum is: 15\n"
     ]
    }
   ],
   "source": [
    "# 1.3 Functions in Python\n",
    "# Function definition\n",
    "def add_numbers(a, b):\n",
    "    return a + b\n",
    "\n",
    "# Call the function with arguments\n",
    "result = add_numbers(5, 10)\n",
    "print(\"The sum is:\", result)\n"
   ]
  },
  {
   "cell_type": "code",
   "execution_count": 7,
   "id": "a286f574-4a5f-444f-9f13-7c124863383d",
   "metadata": {},
   "outputs": [
    {
     "name": "stdout",
     "output_type": "stream",
     "text": [
      "   Hours  Scores\n",
      "0    2.5      21\n",
      "1    5.1      47\n",
      "2    3.2      27\n",
      "3    8.5      75\n",
      "4    3.5      30\n",
      "<class 'pandas.core.frame.DataFrame'>\n",
      "RangeIndex: 25 entries, 0 to 24\n",
      "Data columns (total 2 columns):\n",
      " #   Column  Non-Null Count  Dtype  \n",
      "---  ------  --------------  -----  \n",
      " 0   Hours   25 non-null     float64\n",
      " 1   Scores  25 non-null     int64  \n",
      "dtypes: float64(1), int64(1)\n",
      "memory usage: 532.0 bytes\n",
      "None\n"
     ]
    }
   ],
   "source": [
    "# 2.1 Installing Pandas\n",
    "# !pip install pandas\n",
    "\n",
    "# 2.2 Loading and Exploring Data\n",
    "import pandas as pd\n",
    "\n",
    "# Load the dataset (replace the path if necessary)\n",
    "data = pd.read_csv('student_scores.csv')\n",
    "\n",
    "# Explore the first few rows of the dataset\n",
    "print(data.head())\n",
    "\n",
    "# Check the summary of the dataset\n",
    "print(data.info())\n"
   ]
  },
  {
   "cell_type": "code",
   "execution_count": 11,
   "id": "1b08aa0e-812b-4313-a6d0-4649aa2ff0c4",
   "metadata": {},
   "outputs": [
    {
     "name": "stdout",
     "output_type": "stream",
     "text": [
      "           Hours     Scores\n",
      "count  25.000000  25.000000\n",
      "mean    5.012000  51.480000\n",
      "std     2.525094  25.286887\n",
      "min     1.100000  17.000000\n",
      "25%     2.700000  30.000000\n",
      "50%     4.800000  47.000000\n",
      "75%     7.400000  75.000000\n",
      "max     9.200000  95.000000\n",
      "==============================\n",
      "Hours     0\n",
      "Scores    0\n",
      "dtype: int64\n"
     ]
    }
   ],
   "source": [
    "# 2.3 Exploring Data\n",
    "# Get basic statistics for numerical columns\n",
    "print(data.describe())\n",
    "\n",
    "print(\"==============================\")\n",
    "\n",
    "# Check if there are any missing values\n",
    "print(data.isnull().sum())\n"
   ]
  },
  {
   "cell_type": "code",
   "execution_count": 12,
   "id": "4eec77d6-f4b2-4ec2-94e1-7784fb8ac331",
   "metadata": {},
   "outputs": [
    {
     "name": "stdout",
     "output_type": "stream",
     "text": [
      "   Hours  Scores\n",
      "0    2.5      21\n",
      "1    5.1      47\n",
      "2    3.2      27\n",
      "3    8.5      75\n",
      "4    3.5      30\n"
     ]
    }
   ],
   "source": [
    "# 2.4 Handling Missing Data\n",
    "# Fill missing values with the mean of the column\n",
    "data_filled = data.fillna(data.mean())\n",
    "\n",
    "# Drop rows with missing values\n",
    "data_cleaned = data.dropna()\n",
    "\n",
    "# Check the updated dataset\n",
    "print(data_cleaned.head())\n"
   ]
  }
 ],
 "metadata": {
  "kernelspec": {
   "display_name": "Python 3 (ipykernel)",
   "language": "python",
   "name": "python3"
  },
  "language_info": {
   "codemirror_mode": {
    "name": "ipython",
    "version": 3
   },
   "file_extension": ".py",
   "mimetype": "text/x-python",
   "name": "python",
   "nbconvert_exporter": "python",
   "pygments_lexer": "ipython3",
   "version": "3.12.7"
  }
 },
 "nbformat": 4,
 "nbformat_minor": 5
}
